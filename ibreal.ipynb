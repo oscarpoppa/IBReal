{
 "cells": [
  {
   "cell_type": "code",
   "execution_count": 1,
   "id": "3a1d750c",
   "metadata": {},
   "outputs": [],
   "source": [
    "import os\n",
    "import sys\n",
    "sys.path.append('/home/dan/proj/')"
   ]
  },
  {
   "cell_type": "code",
   "execution_count": 6,
   "id": "6003d27c",
   "metadata": {},
   "outputs": [],
   "source": [
    "from ibreal.ibreal import Ival, IBReal as R\n",
    "from ibreal.ibfuncs import *\n",
    "from ibreal.ibtools import *\n",
    "from ibreal.ibcomp import IBComp as C"
   ]
  },
  {
   "cell_type": "code",
   "execution_count": 7,
   "id": "39aa381c",
   "metadata": {},
   "outputs": [
    {
     "data": {
      "text/plain": [
       "8.0"
      ]
     },
     "execution_count": 7,
     "metadata": {},
     "output_type": "execute_result"
    }
   ],
   "source": [
    "R(8)"
   ]
  },
  {
   "cell_type": "code",
   "execution_count": 32,
   "id": "8206ee9e",
   "metadata": {},
   "outputs": [],
   "source": [
    "targ = 1\n",
    "root = 30"
   ]
  },
  {
   "cell_type": "code",
   "execution_count": 34,
   "id": "b2af85d6",
   "metadata": {},
   "outputs": [],
   "source": [
    "roots = []\n",
    "z=ib_roots(targ, root)\n",
    "for a in range(0,root):\n",
    "    roots.append(z(a))"
   ]
  },
  {
   "cell_type": "code",
   "execution_count": 35,
   "id": "b7433817",
   "metadata": {},
   "outputs": [
    {
     "data": {
      "text/plain": [
       "1.0 + 0.0i"
      ]
     },
     "execution_count": 35,
     "metadata": {},
     "output_type": "execute_result"
    }
   ],
   "source": [
    "clean(roots[7] ** 30).dtrim(20)"
   ]
  },
  {
   "cell_type": "code",
   "execution_count": 36,
   "id": "73c44274",
   "metadata": {},
   "outputs": [],
   "source": [
    "e = ib_exp(1)\n",
    "i = ib_i()\n",
    "pi = ib_pi()"
   ]
  },
  {
   "cell_type": "code",
   "execution_count": 37,
   "id": "55037b0a",
   "metadata": {},
   "outputs": [
    {
     "data": {
      "text/plain": [
       "-9.999999999999999999999999999999999999999999999999999999999999999999999999999999999999999999999999898e-1 + 2.592472277084081670112958854787970873835308320430793655774790584524691720657348180745475849066957706e-97i"
      ]
     },
     "execution_count": 37,
     "metadata": {},
     "output_type": "execute_result"
    }
   ],
   "source": [
    "e**(i*pi)"
   ]
  },
  {
   "cell_type": "code",
   "execution_count": 39,
   "id": "d58faa61",
   "metadata": {},
   "outputs": [
    {
     "data": {
      "text/plain": [
       "-1.0 + 0.0i"
      ]
     },
     "execution_count": 39,
     "metadata": {},
     "output_type": "execute_result"
    }
   ],
   "source": [
    "clean(e**(i*pi))"
   ]
  },
  {
   "cell_type": "code",
   "execution_count": null,
   "id": "66373097",
   "metadata": {},
   "outputs": [],
   "source": []
  }
 ],
 "metadata": {
  "kernelspec": {
   "display_name": "Python 3 (ipykernel)",
   "language": "python",
   "name": "python3"
  },
  "language_info": {
   "codemirror_mode": {
    "name": "ipython",
    "version": 3
   },
   "file_extension": ".py",
   "mimetype": "text/x-python",
   "name": "python",
   "nbconvert_exporter": "python",
   "pygments_lexer": "ipython3",
   "version": "3.9.13"
  }
 },
 "nbformat": 4,
 "nbformat_minor": 5
}
